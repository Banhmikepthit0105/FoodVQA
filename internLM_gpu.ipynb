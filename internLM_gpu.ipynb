{
 "cells": [
  {
   "cell_type": "code",
   "execution_count": 9,
   "metadata": {},
   "outputs": [
    {
     "name": "stderr",
     "output_type": "stream",
     "text": [
      "You are using a model of type internlmxcomposer2 to instantiate a model of type internlm2. This is not supported for all configurations of models and can yield errors.\n"
     ]
    },
    {
     "name": "stdout",
     "output_type": "stream",
     "text": [
      "Set max length to 16384\n"
     ]
    },
    {
     "name": "stderr",
     "output_type": "stream",
     "text": [
      "Loading checkpoint shards: 100%|██████████| 2/2 [00:00<00:00,  3.09it/s]\n",
      "Some weights of InternLMXComposer2ForCausalLM were not initialized from the model checkpoint at internlm/internlm-xcomposer2-4khd-7b and are newly initialized: ['vit.vision_tower.vision_model.post_layernorm.bias', 'vit.vision_tower.vision_model.post_layernorm.weight']\n",
      "You should probably TRAIN this model on a down-stream task to be able to use it for predictions and inference.\n"
     ]
    }
   ],
   "source": [
    "import torch\n",
    "from transformers import AutoModel, AutoTokenizer\n",
    "import pandas as pd\n",
    "from PIL import Image\n",
    "from torchvision import transforms\n",
    "import os\n",
    "torch.set_grad_enabled(False)\n",
    "model = AutoModel.from_pretrained('internlm/internlm-xcomposer2-4khd-7b', torch_dtype=torch.bfloat16, trust_remote_code=True).cuda().eval()\n",
    "tokenizer = AutoTokenizer.from_pretrained('internlm/internlm-xcomposer2-4khd-7b', trust_remote_code=True)"
   ]
  },
  {
   "cell_type": "code",
   "execution_count": 10,
   "metadata": {},
   "outputs": [
    {
     "data": {
      "text/html": [
       "<div>\n",
       "<style scoped>\n",
       "    .dataframe tbody tr th:only-of-type {\n",
       "        vertical-align: middle;\n",
       "    }\n",
       "\n",
       "    .dataframe tbody tr th {\n",
       "        vertical-align: top;\n",
       "    }\n",
       "\n",
       "    .dataframe thead th {\n",
       "        text-align: right;\n",
       "    }\n",
       "</style>\n",
       "<table border=\"1\" class=\"dataframe\">\n",
       "  <thead>\n",
       "    <tr style=\"text-align: right;\">\n",
       "      <th></th>\n",
       "      <th>Image</th>\n",
       "      <th>Question</th>\n",
       "      <th>Answer</th>\n",
       "    </tr>\n",
       "  </thead>\n",
       "  <tbody>\n",
       "    <tr>\n",
       "      <th>0</th>\n",
       "      <td>/Users/nghia.vo/university/text_mining/internL...</td>\n",
       "      <td>What is the main food in the picture?</td>\n",
       "      <td>chutney</td>\n",
       "    </tr>\n",
       "    <tr>\n",
       "      <th>1</th>\n",
       "      <td>/Users/nghia.vo/university/text_mining/internL...</td>\n",
       "      <td>Is this dish vegetarian or non-vegetarian?</td>\n",
       "      <td>vegan</td>\n",
       "    </tr>\n",
       "    <tr>\n",
       "      <th>2</th>\n",
       "      <td>/Users/nghia.vo/university/text_mining/internL...</td>\n",
       "      <td>Based on the following ingredients, classify t...</td>\n",
       "      <td>sweet,sour,salty,spicy</td>\n",
       "    </tr>\n",
       "    <tr>\n",
       "      <th>3</th>\n",
       "      <td>/Users/nghia.vo/university/text_mining/internL...</td>\n",
       "      <td>Is there any chocolate in this food?</td>\n",
       "      <td>no</td>\n",
       "    </tr>\n",
       "  </tbody>\n",
       "</table>\n",
       "</div>"
      ],
      "text/plain": [
       "                                               Image  \\\n",
       "0  /Users/nghia.vo/university/text_mining/internL...   \n",
       "1  /Users/nghia.vo/university/text_mining/internL...   \n",
       "2  /Users/nghia.vo/university/text_mining/internL...   \n",
       "3  /Users/nghia.vo/university/text_mining/internL...   \n",
       "\n",
       "                                            Question                  Answer  \n",
       "0              What is the main food in the picture?                 chutney  \n",
       "1         Is this dish vegetarian or non-vegetarian?                   vegan  \n",
       "2  Based on the following ingredients, classify t...  sweet,sour,salty,spicy  \n",
       "3               Is there any chocolate in this food?                      no  "
      ]
     },
     "execution_count": 10,
     "metadata": {},
     "output_type": "execute_result"
    }
   ],
   "source": [
    "\n",
    "images_parent_path = \"/Users/nghia.vo/university/text_mining/internLLM/archive/assets/assets/\"\n",
    "test_path = \"/Users/nghia.vo/university/text_mining/internLLM/test.csv\"\n",
    "predictions_path = \"/Users/nghia.vo/university/text_mining/internLLM/predict_internLM.csv\"\n",
    "df = pd.read_csv(test_path)\n",
    "df['Image'] = images_parent_path + df['Image']\n",
    "df.head()"
   ]
  },
  {
   "cell_type": "markdown",
   "metadata": {},
   "source": [
    "# Function"
   ]
  },
  {
   "cell_type": "code",
   "execution_count": 11,
   "metadata": {},
   "outputs": [],
   "source": [
    "def write_to_csvfile(data, path):\n",
    "    \"\"\"\n",
    "    Append new data to a csv file\n",
    "    Parameters\n",
    "    ----------\n",
    "    data : list\n",
    "        List of data to be written to the csv file\n",
    "        \n",
    "    path : str\n",
    "        Path to the csv file\n",
    "    \"\"\"\n",
    "    if not os.path.exists(path):\n",
    "        with open(path, 'w') as f:\n",
    "            f.write('Image,Question,Answer,Predict\\n')\n",
    "    with open(path, 'a') as f:\n",
    "        f.write(data + '\\n')\n"
   ]
  },
  {
   "cell_type": "code",
   "execution_count": null,
   "metadata": {},
   "outputs": [],
   "source": [
    "file_exists = os.path.exists(predictions_path)\n",
    "transform = transforms.Compose([\n",
    "    transforms.Resize((336, 336)),\n",
    "    transforms.ToTensor()\n",
    "])\n",
    "with open(predictions_path, 'a', newline='', encoding='utf-8') as f:\n",
    "    for i in range(len(df)):\n",
    "        row = df.iloc[i]\n",
    "        image_path = row['Image'] + \".jpg\"\n",
    "        question = '<ImageHere>' + row['Question']\n",
    "        answer = row['Answer']\n",
    "\n",
    "        # Load and transform the image\n",
    "       \n",
    "\n",
    "        # Get model output\n",
    "        with torch.cuda.amp.autocast():\n",
    "            response, his = model.chat(tokenizer, query=question, image=image_path, hd_num=55, history=[], do_sample=False, num_beams=3)\n",
    "        predicted = response[0]['text']\n",
    "\n",
    "        # Print results\n",
    "        print(f\"Image: {image_path}\")\n",
    "        print(f\"Question: {question}\")\n",
    "        print(f\"Answer: {answer}\")\n",
    "        print(f\"Predicted: {predicted}\")\n",
    "        print()\n",
    "\n",
    "        # Append to CSV\n",
    "        row_data = pd.DataFrame([[image_path, question, answer, predicted]], \n",
    "                                columns=['Image', 'Question', 'Answer', 'Predict'])\n",
    "        row_data.to_csv(f, index=False, header=not file_exists)  # Append row, add header only if file doesn't exist\n",
    "\n",
    "        # Ensure header is not written again\n",
    "        file_exists = True"
   ]
  }
 ],
 "metadata": {
  "kernelspec": {
   "display_name": "Python 3",
   "language": "python",
   "name": "python3"
  },
  "language_info": {
   "codemirror_mode": {
    "name": "ipython",
    "version": 3
   },
   "file_extension": ".py",
   "mimetype": "text/x-python",
   "name": "python",
   "nbconvert_exporter": "python",
   "pygments_lexer": "ipython3",
   "version": "3.12.0"
  }
 },
 "nbformat": 4,
 "nbformat_minor": 2
}
